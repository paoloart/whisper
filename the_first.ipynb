{
 "cells": [
  {
   "cell_type": "code",
   "execution_count": 1,
   "metadata": {},
   "outputs": [],
   "source": [
    "import whisper\n",
    "import numpy as np\n",
    "import torch"
   ]
  },
  {
   "cell_type": "code",
   "execution_count": 2,
   "metadata": {},
   "outputs": [
    {
     "data": {
      "text/plain": [
       "True"
      ]
     },
     "execution_count": 2,
     "metadata": {},
     "output_type": "execute_result"
    }
   ],
   "source": [
    "torch.cuda.is_available()"
   ]
  },
  {
   "cell_type": "code",
   "execution_count": 7,
   "metadata": {},
   "outputs": [],
   "source": [
    "option = dict(language='German')\n",
    "model = whisper.load_model(\"large\")\n",
    "result = model.transcribe(\"global_war.mp3\",**option)\n",
    "print(result[\"text\"])"
   ]
  },
  {
   "cell_type": "code",
   "execution_count": 6,
   "metadata": {},
   "outputs": [],
   "source": [
    "del(model)"
   ]
  },
  {
   "cell_type": "code",
   "execution_count": 13,
   "metadata": {},
   "outputs": [
    {
     "name": "stdout",
     "output_type": "stream",
     "text": [
      " Parlando della situazione attuale in Ucraina posso dire a mio malgarado che già mesi fa avevo ipotizzato il fatto che sarebbe arrivati a un escalation e che avrebbero pensato che ci fosse sul tavolo un ipotesi di una mini guerra nucleare o comunque che avrebbero ipotizzato l´utilizzo di mini bombe nucleari diciamo che la cosa che ritengo più ottimista che noto ora nel breve periodo è il fatto che la Cina abbia espressamente detto e abbia espressamente messo dei limiti e questo da un certo punto di vista è una cosa molto positiva dall´altra si sta mettendo a arbitro della situazione il che da un punto di vista internazionale le farà acquisire molto più potere rispetto a quello che attualmente ha\n"
     ]
    }
   ],
   "source": [
    "print(result[\"text\"])"
   ]
  },
  {
   "cell_type": "code",
   "execution_count": 14,
   "metadata": {},
   "outputs": [
    {
     "data": {
      "text/plain": [
       "0.7862203618299273"
      ]
     },
     "execution_count": 14,
     "metadata": {},
     "output_type": "execute_result"
    }
   ],
   "source": [
    "test = result[\"segments\"][0][\"avg_logprob\"]\n",
    "np.exp(test)"
   ]
  },
  {
   "cell_type": "code",
   "execution_count": 15,
   "metadata": {},
   "outputs": [
    {
     "name": "stdout",
     "output_type": "stream",
     "text": [
      "{'text': ' Parlando della situazione attuale in Ucraina posso dire a mio malgarado che già mesi fa avevo ipotizzato il fatto che sarebbe arrivati a un escalation e che avrebbero pensato che ci fosse sul tavolo un ipotesi di una mini guerra nucleare o comunque che avrebbero ipotizzato l´utilizzo di mini bombe nucleari diciamo che la cosa che ritengo più ottimista che noto ora nel breve periodo è il fatto che la Cina abbia espressamente detto e abbia espressamente messo dei limiti e questo da un certo punto di vista è una cosa molto positiva dall´altra si sta mettendo a arbitro della situazione il che da un punto di vista internazionale le farà acquisire molto più potere rispetto a quello che attualmente ha', 'segments': [{'id': 0, 'seek': 0, 'start': 0.0, 'end': 20.0, 'text': ' Parlando della situazione attuale in Ucraina posso dire a mio malgarado che già mesi fa avevo ipotizzato il fatto che sarebbe arrivati a un escalation', 'tokens': [50364, 3457, 16201, 11618, 2054, 12928, 951, 901, 68, 294, 624, 39302, 1426, 22501, 1264, 257, 29908, 2806, 2976, 1573, 947, 30469, 3813, 72, 2050, 3472, 3080, 28501, 310, 8072, 2513, 1930, 23228, 947, 38706, 39042, 30697, 6908, 257, 517, 17871, 399, 51364, 51364], 'temperature': 0.0, 'avg_logprob': -0.2405181672837999, 'compression_ratio': 1.293103448275862, 'no_caption_prob': 0.23069354891777039}, {'id': 1, 'seek': 2000, 'start': 20.0, 'end': 34.0, 'text': ' e che avrebbero pensato che ci fosse sul tavolo un ipotesi di una mini guerra nucleare o comunque che avrebbero ipotizzato l´utilizzo di mini bombe nucleari', 'tokens': [50364, 308, 947, 1305, 22692, 46659, 6099, 2513, 947, 6983, 24528, 17603, 23214, 7902, 517, 28501, 17251, 72, 1026, 2002, 8382, 27542, 14962, 543, 277, 45736, 947, 1305, 22692, 46659, 28501, 310, 8072, 2513, 287, 6945, 20835, 590, 4765, 1026, 8382, 7957, 650, 14962, 3504, 51064, 51064], 'temperature': 0.0, 'avg_logprob': -0.08350782593091328, 'compression_ratio': 1.4054054054054055, 'no_caption_prob': 9.732430771691725e-05}, {'id': 2, 'seek': 3400, 'start': 34.0, 'end': 52.0, 'text': ' diciamo che la cosa che ritengo più ottimista che noto ora nel breve periodo è il fatto che la Cina abbia espressamente detto e abbia espressamente messo dei limiti', 'tokens': [50364, 14285, 7415, 947, 635, 10163, 947, 11289, 30362, 10589, 4337, 31208, 5236, 947, 406, 78, 33714, 15373, 48517, 2896, 78, 4873, 1930, 23228, 947, 635, 383, 1426, 16903, 654, 7089, 735, 3439, 41031, 308, 16903, 654, 7089, 735, 3439, 2082, 78, 13874, 4948, 72, 51264, 51264], 'temperature': 0.0, 'avg_logprob': -0.11400864521662395, 'compression_ratio': 1.4642857142857142, 'no_caption_prob': 0.00019255689403507859}, {'id': 3, 'seek': 5200, 'start': 52.0, 'end': 68.0, 'text': ' e questo da un certo punto di vista è una cosa molto positiva dall´altra si sta mettendo a arbitro della situazione il che da un punto di vista internazionale le farà acquisire molto più potere rispetto a quello che attualmente ha', 'tokens': [50364, 308, 10263, 1120, 517, 22261, 14326, 1026, 22553, 4873, 2002, 10163, 16394, 11218, 5931, 43351, 6945, 38865, 1511, 11135, 27812, 3999, 257, 14931, 340, 11618, 2054, 12928, 1930, 947, 1120, 517, 14326, 1026, 22553, 728, 629, 89, 313, 1220, 476, 1400, 1467, 17883, 621, 16394, 10589, 1847, 323, 2253, 42801, 257, 22813, 947, 951, 901, 4082, 324, 51164], 'temperature': 0.0, 'avg_logprob': -0.08002649943033854, 'compression_ratio': 1.4838709677419355, 'no_caption_prob': 0.00032221153378486633}], 'language': 'it'}\n"
     ]
    }
   ],
   "source": [
    "print(result)"
   ]
  },
  {
   "cell_type": "code",
   "execution_count": null,
   "metadata": {},
   "outputs": [],
   "source": [
    "pip3 install torch torchvision torchaudio --extra-index-url https://download.pytorch.org/whl/cu116to"
   ]
  }
 ],
 "metadata": {
  "kernelspec": {
   "display_name": "Python 3.9.12 ('base')",
   "language": "python",
   "name": "python3"
  },
  "language_info": {
   "codemirror_mode": {
    "name": "ipython",
    "version": 3
   },
   "file_extension": ".py",
   "mimetype": "text/x-python",
   "name": "python",
   "nbconvert_exporter": "python",
   "pygments_lexer": "ipython3",
   "version": "3.9.12"
  },
  "orig_nbformat": 4,
  "vscode": {
   "interpreter": {
    "hash": "dab3a02a7bcb28cbd361f7aaa3a82a6b6f90eaa0d52dae4528875653e3725a9d"
   }
  }
 },
 "nbformat": 4,
 "nbformat_minor": 2
}
