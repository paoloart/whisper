{
 "cells": [
  {
   "cell_type": "code",
   "execution_count": 1,
   "metadata": {},
   "outputs": [],
   "source": [
    "import whisper\n",
    "import numpy as np\n",
    "import torch"
   ]
  },
  {
   "cell_type": "code",
   "execution_count": 2,
   "metadata": {},
   "outputs": [
    {
     "data": {
      "text/plain": [
       "True"
      ]
     },
     "execution_count": 2,
     "metadata": {},
     "output_type": "execute_result"
    }
   ],
   "source": [
    "torch.cuda.is_available()"
   ]
  },
  {
   "cell_type": "code",
   "execution_count": 2,
   "metadata": {},
   "outputs": [
    {
     "name": "stdout",
     "output_type": "stream",
     "text": [
      " Parmi les situations actuelles en Ukraine, je peux dire à mon étonnement que j''avais déjà hypothisé qu''il y aurait une escalade et qu''ils auraient pensé qu''il y aurait sur le table une hypothèse d''une mini guerre nucléaire ou qu''ils auraient hypothisé l''utilisation de mini bombes nucléaires. La chose la plus optimiste que je vois dans ce bref période est le fait que la Chine ait expressement mis des limites. C''est une chose très positive et d''un autre côté elle s''est mis en danger. C''est une chose qui, d''un point de vue international, leur permettra d''acquérir beaucoup plus de pouvoir que ce qu''elle a actuellement.\n"
     ]
    }
   ],
   "source": [
    "option = dict(language='English')\n",
    "model = whisper.load_model(\"medium\")\n",
    "result = model.transcribe(\"global_war.mp3\",**option)\n",
    "print(result[\"text\"])"
   ]
  },
  {
   "cell_type": "markdown",
   "metadata": {},
   "source": [
    "flash the GPU memory"
   ]
  },
  {
   "cell_type": "code",
   "execution_count": 12,
   "metadata": {},
   "outputs": [],
   "source": [
    "del(model)"
   ]
  },
  {
   "cell_type": "code",
   "execution_count": 14,
   "metadata": {},
   "outputs": [
    {
     "data": {
      "text/plain": [
       "0.7862203618299273"
      ]
     },
     "execution_count": 14,
     "metadata": {},
     "output_type": "execute_result"
    }
   ],
   "source": [
    "test = result[\"segments\"][0][\"avg_logprob\"]\n",
    "np.exp(test)"
   ]
  }
 ],
 "metadata": {
  "kernelspec": {
   "display_name": "Python 3.9.12 ('base')",
   "language": "python",
   "name": "python3"
  },
  "language_info": {
   "codemirror_mode": {
    "name": "ipython",
    "version": 3
   },
   "file_extension": ".py",
   "mimetype": "text/x-python",
   "name": "python",
   "nbconvert_exporter": "python",
   "pygments_lexer": "ipython3",
   "version": "3.9.12"
  },
  "orig_nbformat": 4,
  "vscode": {
   "interpreter": {
    "hash": "dab3a02a7bcb28cbd361f7aaa3a82a6b6f90eaa0d52dae4528875653e3725a9d"
   }
  }
 },
 "nbformat": 4,
 "nbformat_minor": 2
}
